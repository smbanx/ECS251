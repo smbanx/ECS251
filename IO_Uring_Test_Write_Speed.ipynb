{
  "nbformat": 4,
  "nbformat_minor": 0,
  "metadata": {
    "colab": {
      "provenance": []
    },
    "kernelspec": {
      "name": "python3",
      "display_name": "Python 3"
    },
    "language_info": {
      "name": "python"
    }
  },
  "cells": [
    {
      "cell_type": "code",
      "execution_count": null,
      "metadata": {
        "colab": {
          "base_uri": "https://localhost:8080/"
        },
        "id": "cwNX55AtdUKZ",
        "outputId": "0fb43a57-f939-4713-be05-d78b0e0f7eec"
      },
      "outputs": [
        {
          "output_type": "stream",
          "name": "stdout",
          "text": [
            "5.626342296600342\n",
            "Write speed: 182.00 MB/s\n"
          ]
        }
      ],
      "source": [
        "import time\n",
        "import os\n",
        "\n",
        "def test_write_speed(file_path=\"test_file.dat\", file_size=1 * 1024 * 1024 * 1024):\n",
        "    \"\"\"Tests the write speed of creating a file with specified size.\"\"\"\n",
        "    data = b\"0\" * (1024 * 1024)\n",
        "    total_written = 0\n",
        "    start_time = time.time()\n",
        "\n",
        "    with open(file_path, \"wb\") as f:\n",
        "        while total_written < file_size:\n",
        "            f.write(data)\n",
        "            total_written += len(data)\n",
        "\n",
        "    end_time = time.time()\n",
        "    duration = end_time - start_time\n",
        "    print(duration)\n",
        "    speed = file_size / duration / (1024 * 1024)\n",
        "\n",
        "    print(f\"Write speed: {speed:.2f} MB/s\")\n",
        "    os.remove(file_path)\n",
        "\n",
        "if __name__ == \"__main__\":\n",
        "    test_write_speed()"
      ]
    },
    {
      "cell_type": "code",
      "source": [
        "!pip install liburing"
      ],
      "metadata": {
        "colab": {
          "base_uri": "https://localhost:8080/"
        },
        "id": "cSE0P5QWePep",
        "outputId": "0d74db6a-1396-40fb-90a3-130f6d400ece"
      },
      "execution_count": null,
      "outputs": [
        {
          "output_type": "stream",
          "name": "stdout",
          "text": [
            "Collecting liburing\n",
            "  Downloading liburing-2024.5.3.tar.gz (117 kB)\n",
            "\u001b[?25l     \u001b[90m━━━━━━━━━━━━━━━━━━━━━━━━━━━━━━━━━━━━━━━━\u001b[0m \u001b[32m0.0/117.4 kB\u001b[0m \u001b[31m?\u001b[0m eta \u001b[36m-:--:--\u001b[0m\r\u001b[2K     \u001b[90m━━━━━━━━━━━━━━━━━━━━━━━━━━━━━━━━━━━━━━━━\u001b[0m \u001b[32m117.4/117.4 kB\u001b[0m \u001b[31m4.7 MB/s\u001b[0m eta \u001b[36m0:00:00\u001b[0m\n",
            "\u001b[?25h  Installing build dependencies ... \u001b[?25l\u001b[?25hdone\n",
            "  Getting requirements to build wheel ... \u001b[?25l\u001b[?25hdone\n",
            "  Preparing metadata (pyproject.toml) ... \u001b[?25l\u001b[?25hdone\n",
            "Collecting dynamic-import (from liburing)\n",
            "  Downloading dynamic_import-2024.5.2-py3-none-any.whl.metadata (14 kB)\n",
            "Downloading dynamic_import-2024.5.2-py3-none-any.whl (19 kB)\n",
            "Building wheels for collected packages: liburing\n",
            "  Building wheel for liburing (pyproject.toml) ... \u001b[?25l\u001b[?25hdone\n",
            "  Created wheel for liburing: filename=liburing-2024.5.3-cp311-cp311-linux_x86_64.whl size=2351534 sha256=5c69d78d59ca5a649a17f0024fbf46dd75fb34e5761f51105bf29d82abd063b4\n",
            "  Stored in directory: /root/.cache/pip/wheels/0e/d4/40/2239396498ad6f682f9e8ea9f4901d334fb693933a5b415fb2\n",
            "Successfully built liburing\n",
            "Installing collected packages: dynamic-import, liburing\n",
            "Successfully installed dynamic-import-2024.5.2 liburing-2024.5.3\n"
          ]
        }
      ]
    },
    {
      "cell_type": "code",
      "source": [
        "# import time\n",
        "# import os\n",
        "# import liburing\n",
        "# import mmap\n",
        "\n",
        "# def test_write_speed(file_path=\"test_file.dat\", file_size=1 * 1024 * 1024 * 1024):\n",
        "#     \"\"\"Tests the write speed of creating a file with specified size using io_uring.\"\"\"\n",
        "#     data_size = 1024 * 1024  # 1MB of data\n",
        "#     queue_depth = 32  # Number of asynchronous requests\n",
        "\n",
        "#     # Setup io_uring\n",
        "#     ring = liburing.io_uring()\n",
        "#     liburing.io_uring_queue_init(queue_depth, ring, 0)\n",
        "\n",
        "#     # Open file\n",
        "#     fd = os.open(file_path, os.O_WRONLY | os.O_CREAT | os.O_TRUNC, 0o644)\n",
        "\n",
        "#     start_time = time.time()\n",
        "#     with mmap.mmap(-1, data_size) as buf:\n",
        "#         buf.write(b\"0\" * data_size)\n",
        "#         buf.seek(0)\n",
        "\n",
        "#         total_written = 0\n",
        "#         while total_written < file_size:\n",
        "#             # Get a submission queue entry (SQE)\n",
        "#             sqe = liburing.io_uring_get_sqe(ring)\n",
        "\n",
        "#             # Prepare the write operation\n",
        "#             liburing.io_uring_prep_write(sqe, fd, buf, data_size, total_written)\n",
        "#             total_written += data_size\n",
        "#             liburing.io_uring_submit(ring)\n",
        "\n",
        "#             # Ensure completion of write requests\n",
        "#             cqe_ptr = liburing.io_uring_cqe()\n",
        "#             liburing.io_uring_wait_cqe(ring, cqe_ptr)\n",
        "#             liburing.io_uring_cqe_seen(ring, cqe_ptr)\n",
        "\n",
        "#     # Cleanup\n",
        "#     liburing.io_uring_queue_exit(ring)\n",
        "#     os.close(fd)\n",
        "\n",
        "#     end_time = time.time()\n",
        "#     duration = end_time - start_time\n",
        "#     speed = file_size / duration / (1024 * 1024)  # Convert to MB/s\n",
        "#     print(duration)\n",
        "#     # print(f\"Write speed: {speed:.2f} MB/s\")\n",
        "\n",
        "# if __name__ == \"__main__\":\n",
        "#     test_write_speed()\n"
      ],
      "metadata": {
        "colab": {
          "base_uri": "https://localhost:8080/"
        },
        "id": "LaNhi2oGeRZW",
        "outputId": "5ab35d2c-d7f8-4242-c78a-d75055a8ba51"
      },
      "execution_count": null,
      "outputs": [
        {
          "output_type": "stream",
          "name": "stdout",
          "text": [
            "5.993032455444336\n"
          ]
        }
      ]
    },
    {
      "cell_type": "code",
      "source": [
        "import time\n",
        "import os\n",
        "import liburing\n",
        "import mmap\n",
        "\n",
        "\n",
        "def io_uring_write(file_path, data):\n",
        "    \"\"\"Efficiently writes data to a file using io_uring with batching.\"\"\"\n",
        "    queue_depth = 32  # Max number of requests in flight\n",
        "    chunk_size = 4096  # Write in 4KB chunks for efficiency\n",
        "    data_size = len(data)\n",
        "\n",
        "    # Setup io_uring\n",
        "    ring = liburing.io_uring()\n",
        "    liburing.io_uring_queue_init(queue_depth, ring, 0)\n",
        "\n",
        "    # Open file\n",
        "    fd = os.open(file_path, os.O_WRONLY | os.O_CREAT | os.O_TRUNC, 0o644)\n",
        "\n",
        "    # Use bytearray instead of mmap for efficient buffer management\n",
        "    total_written = 0\n",
        "    while total_written < data_size:\n",
        "        submitted = 0\n",
        "\n",
        "        # Queue multiple write requests up to queue_depth\n",
        "        while submitted < queue_depth and total_written < data_size:\n",
        "            sqe = liburing.io_uring_get_sqe(ring)\n",
        "            if not sqe:\n",
        "                break  # No more SQEs available\n",
        "\n",
        "            # Determine chunk size\n",
        "            write_size = min(chunk_size, data_size - total_written)\n",
        "\n",
        "            # Prepare the write operation\n",
        "            buf = data[total_written: total_written + write_size]\n",
        "            liburing.io_uring_prep_write(sqe, fd, buf, write_size, total_written)\n",
        "            total_written += write_size\n",
        "            submitted += 1\n",
        "\n",
        "        # Submit all queued requests at once\n",
        "        if submitted > 0:\n",
        "            liburing.io_uring_submit(ring)\n",
        "\n",
        "        # Process completion queue\n",
        "        completed = 0\n",
        "        while completed < submitted:\n",
        "            cqe_ptr = liburing.io_uring_cqe()\n",
        "            if liburing.io_uring_wait_cqe(ring, cqe_ptr) == 0:\n",
        "                liburing.io_uring_cqe_seen(ring, cqe_ptr)\n",
        "                completed += 1\n",
        "\n",
        "    # Cleanup\n",
        "    liburing.io_uring_queue_exit(ring)\n",
        "    os.close(fd)\n",
        "\n",
        "\n",
        "def test_write_speed(file_path=\"test_file.dat\", file_size=1 * 1024 * 1024 * 1024):\n",
        "    \"\"\"Tests the write speed of creating a file with specified size using io_uring.\"\"\"\n",
        "    data = b\"0\" * file_size\n",
        "    start_time = time.time()\n",
        "    io_uring_write(file_path, data)\n",
        "    end_time = time.time()\n",
        "\n",
        "    duration = end_time - start_time\n",
        "    speed = file_size / duration / (1024 * 1024)  # Convert to MB/s\n",
        "\n",
        "    print(f\"Write speed: {speed:.2f} MB/s\")\n",
        "    os.remove(file_path)  # Clean up after test\n",
        "    print(duration)\n",
        "\n",
        "if __name__ == \"__main__\":\n",
        "    test_write_speed()\n"
      ],
      "metadata": {
        "colab": {
          "base_uri": "https://localhost:8080/"
        },
        "id": "C8LjUtpmhwK9",
        "outputId": "58bbc53c-1670-4372-9f98-0bb84d09ac69"
      },
      "execution_count": null,
      "outputs": [
        {
          "output_type": "stream",
          "name": "stdout",
          "text": [
            "Write speed: 175.83 MB/s\n",
            "5.823745012283325\n"
          ]
        }
      ]
    },
    {
      "cell_type": "code",
      "source": [
        "import time\n",
        "import os\n",
        "import liburing\n",
        "import mmap\n",
        "\n",
        "\n",
        "import os\n",
        "import liburing\n",
        "\n",
        "def io_uring_write_all(file_path, data):\n",
        "    \"\"\"Writes all data at once to the specified file using io_uring.\"\"\"\n",
        "    queue_depth = 1  # Single request since we're writing all data at once\n",
        "    data_size = len(data)\n",
        "\n",
        "    # Setup io_uring\n",
        "    ring = liburing.io_uring()\n",
        "    liburing.io_uring_queue_init(queue_depth, ring, 0)\n",
        "\n",
        "    # Open file\n",
        "    fd = os.open(file_path, os.O_WRONLY | os.O_CREAT | os.O_TRUNC, 0o644)\n",
        "\n",
        "    # Get a submission queue entry (SQE)\n",
        "    sqe = liburing.io_uring_get_sqe(ring)\n",
        "\n",
        "    if not sqe:\n",
        "        raise RuntimeError(\"Failed to get SQE\")\n",
        "\n",
        "    # Prepare a single write operation for the entire data buffer\n",
        "    liburing.io_uring_prep_write(sqe, fd, data, data_size, 0)\n",
        "\n",
        "    # Submit the request\n",
        "    liburing.io_uring_submit(ring)\n",
        "\n",
        "    # Wait for the completion event\n",
        "    cqe_ptr = liburing.io_uring_cqe()\n",
        "    liburing.io_uring_wait_cqe(ring, cqe_ptr)\n",
        "    liburing.io_uring_cqe_seen(ring, cqe_ptr)\n",
        "\n",
        "    # Cleanup\n",
        "    liburing.io_uring_queue_exit(ring)\n",
        "    os.close(fd)\n",
        "\n",
        "\n",
        "\n",
        "def test_write_speed(file_path=\"test_file.dat\", file_size=1 * 1024 * 1024 * 1024):\n",
        "    \"\"\"Tests the write speed of creating a file with specified size using io_uring.\"\"\"\n",
        "    data = b\"0\" * file_size\n",
        "    start_time = time.time()\n",
        "    io_uring_write(file_path, data)\n",
        "    end_time = time.time()\n",
        "\n",
        "    duration = end_time - start_time\n",
        "    speed = file_size / duration / (1024 * 1024)  # Convert to MB/s\n",
        "\n",
        "    print(f\"Write speed: {speed:.2f} MB/s\")\n",
        "    os.remove(file_path)  # Clean up after test\n",
        "    print(duration)\n",
        "if __name__ == \"__main__\":\n",
        "    test_write_speed()"
      ],
      "metadata": {
        "colab": {
          "base_uri": "https://localhost:8080/"
        },
        "id": "JA0HiaFJjF5c",
        "outputId": "823ef7a8-6238-495f-8ad1-0314a62b4b56"
      },
      "execution_count": null,
      "outputs": [
        {
          "output_type": "stream",
          "name": "stdout",
          "text": [
            "Write speed: 146.98 MB/s\n",
            "6.9669365882873535\n"
          ]
        }
      ]
    },
    {
      "cell_type": "code",
      "source": [
        "from liburing import O_CREAT, O_RDWR, AT_FDCWD, iovec, io_uring, io_uring_get_sqe, \\\n",
        "                     io_uring_prep_openat, io_uring_prep_write, io_uring_prep_read, \\\n",
        "                     io_uring_prep_close, io_uring_submit, io_uring_wait_cqe, \\\n",
        "                     io_uring_cqe_seen, io_uring_cqe, io_uring_queue_init, io_uring_queue_exit, \\\n",
        "                     io_uring_sqe_set_data64, trap_error\n",
        "\n",
        "\n",
        "def open(ring, cqe, path, flags, mode=0o660, dir_fd=AT_FDCWD):\n",
        "    _path = path if isinstance(path, bytes) else str(path).encode()\n",
        "    # if `path` is relative and `dir_fd` is `AT_FDCWD`, then `path` is relative\n",
        "    # to current working directory. Also `_path` must be in bytes\n",
        "\n",
        "    sqe = io_uring_get_sqe(ring)  # sqe(submission queue entry)\n",
        "    io_uring_prep_openat(sqe, _path, flags, mode, dir_fd)\n",
        "    # set submit entry identifier as `1` which is returned back in `cqe.user_data`\n",
        "    # so you can keep track of submit/completed entries.\n",
        "    io_uring_sqe_set_data64(sqe, 1)\n",
        "    return _submit_and_wait(ring, cqe)  # returns fd\n",
        "\n",
        "\n",
        "def write(ring, cqe, fd, data, offset=0):\n",
        "    iov = iovec(data)  # or iovec([bytearray(data)])\n",
        "    sqe = io_uring_get_sqe(ring)\n",
        "    io_uring_prep_write(sqe, fd, iov.iov_base, iov.iov_len, offset)\n",
        "    io_uring_sqe_set_data64(sqe, 2)\n",
        "    return _submit_and_wait(ring, cqe)  # returns length(s) of bytes written\n",
        "\n",
        "\n",
        "def read(ring, cqe, fd, length, offset=0):\n",
        "    iov = iovec(bytearray(length))  # or [bytearray(length)]\n",
        "    sqe = io_uring_get_sqe(ring)\n",
        "    io_uring_prep_read(sqe, fd, iov.iov_base, iov.iov_len, offset)\n",
        "    io_uring_sqe_set_data64(sqe, 3)\n",
        "    _submit_and_wait(ring, cqe)  # get actual length of file read.\n",
        "    return iov.iov_base\n",
        "\n",
        "\n",
        "def close(ring, cqe, fd):\n",
        "    sqe = io_uring_get_sqe(ring)\n",
        "    io_uring_prep_close(sqe, fd)\n",
        "    io_uring_sqe_set_data64(sqe, 4)\n",
        "    _submit_and_wait(ring, cqe)  # no error means success!\n",
        "\n",
        "\n",
        "def _submit_and_wait(ring, cqe):\n",
        "    io_uring_submit(ring)  # submit entry\n",
        "    io_uring_wait_cqe(ring, cqe)  # wait for entry to finish\n",
        "    result = trap_error(cqe.res)  # auto raise appropriate exception if failed\n",
        "    # note `cqe.res` returns results, if ``< 0`` its an error, if ``>= 0`` its the value\n",
        "\n",
        "    # done with current entry so clear it from completion queue.\n",
        "    io_uring_cqe_seen(ring, cqe)\n",
        "    return result  # type: int"
      ],
      "metadata": {
        "id": "oJyOyoc_h4ct"
      },
      "execution_count": 1,
      "outputs": []
    },
    {
      "cell_type": "markdown",
      "source": [],
      "metadata": {
        "id": "tphCc4M3q_Sr"
      }
    },
    {
      "cell_type": "code",
      "source": [
        "import time\n",
        "def main(data):\n",
        "    ring = io_uring()\n",
        "    cqe = io_uring_cqe()  # completion queue entry\n",
        "\n",
        "\n",
        "    io_uring_queue_init(32, ring, 0)\n",
        "\n",
        "    fd = open(ring, cqe, 'liburing-test-file.txt', O_CREAT | O_RDWR)\n",
        "    print('fd:', fd)\n",
        "\n",
        "    start = time.time()\n",
        "    length = write(ring, cqe, fd, data)\n",
        "    end = time.time()\n",
        "    print(end - start)\n",
        "    print('wrote:', length)\n",
        "\n",
        "\n",
        "    # content = read(ring, cqe, fd, length)\n",
        "    # print('read:', content)\n",
        "\n",
        "    close(ring, cqe, fd)\n",
        "    print('closed.')\n",
        "\n",
        "    io_uring_queue_exit(ring)\n",
        "\n",
        "\n",
        "data = b\"0\" * 1 * 1024 * 1024 * 1024\n",
        "print(len(data))\n",
        "main(data)\n",
        "del data"
      ],
      "metadata": {
        "colab": {
          "base_uri": "https://localhost:8080/"
        },
        "id": "4cdO0HvonWHz",
        "outputId": "8bf33dfd-c2d3-4de3-b93b-1c21dc74e8a4"
      },
      "execution_count": 11,
      "outputs": [
        {
          "output_type": "stream",
          "name": "stdout",
          "text": [
            "1073741824\n",
            "fd: 50\n",
            "7.837464809417725\n",
            "wrote: 1073741824\n",
            "closed.\n"
          ]
        }
      ]
    },
    {
      "cell_type": "code",
      "source": [],
      "metadata": {
        "id": "3zqQN6lrn6OB"
      },
      "execution_count": null,
      "outputs": []
    }
  ]
}